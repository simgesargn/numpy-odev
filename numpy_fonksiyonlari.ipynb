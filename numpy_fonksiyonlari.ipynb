{
 "cells": [
  {
   "cell_type": "code",
   "execution_count": 2,
   "id": "33b81747-1254-42b8-be00-1c13e789199e",
   "metadata": {},
   "outputs": [],
   "source": [
    "import numpy as np\n"
   ]
  },
  {
   "cell_type": "markdown",
   "id": "bd678c74-5875-421a-bd2b-1bd1e6bdda74",
   "metadata": {},
   "source": [
    "# NumPy Kütüphanesi ve Kullanımı\n",
    "\n",
    "NumPy, Python'da bilimsel hesaplamalar için kullanılan güçlü bir kütüphanedir. Çok boyutlu diziler (array'ler) ve matris işlemleri yapmaya olanak sağlar.\n",
    "\n",
    "Bu çalışma, NumPy kütüphanesinin 10 farklı fonksiyonunu açıklamakta ve örneklerle göstermektedir.\n"
   ]
  },
  {
   "cell_type": "markdown",
   "id": "d47db95b-2c5a-41aa-a268-0aedba8f725c",
   "metadata": {},
   "source": [
    "### Fonksiyon 1: np.array()"
   ]
  },
  {
   "cell_type": "code",
   "execution_count": 3,
   "id": "fef1c6c8-0e05-4290-86e5-3b6f41b61a18",
   "metadata": {},
   "outputs": [
    {
     "name": "stdout",
     "output_type": "stream",
     "text": [
      "NumPy Dizisi: [1 2 3 4 5]\n"
     ]
    }
   ],
   "source": [
    "# np.array() kullanımı\n",
    "liste = [1, 2, 3, 4, 5]\n",
    "dizi = np.array(liste)\n",
    "print(\"NumPy Dizisi:\", dizi)\n"
   ]
  },
  {
   "cell_type": "markdown",
   "id": "a5e6cb1f-ef17-4209-8fe7-34c9a32bd0f3",
   "metadata": {},
   "source": [
    "### Fonksiyon 2: np.zeros()"
   ]
  },
  {
   "cell_type": "code",
   "execution_count": 4,
   "id": "ed78f262-3077-43bf-89ab-33979c2f5a0a",
   "metadata": {},
   "outputs": [
    {
     "name": "stdout",
     "output_type": "stream",
     "text": [
      "[[0. 0. 0.]\n",
      " [0. 0. 0.]\n",
      " [0. 0. 0.]]\n"
     ]
    }
   ],
   "source": [
    "# np.zeros() ile sıfırlarla dolu matris oluşturma\n",
    "dizi = np.zeros((3, 3))\n",
    "print(dizi)"
   ]
  },
  {
   "cell_type": "markdown",
   "id": "d5b20b3f-56da-4b70-a28a-fdc7d7b227cf",
   "metadata": {},
   "source": [
    "### Fonksiyon 3: np.ones()"
   ]
  },
  {
   "cell_type": "code",
   "execution_count": 5,
   "id": "b97ea2a3-2ce9-4339-8a41-dbbc75ac6119",
   "metadata": {},
   "outputs": [
    {
     "name": "stdout",
     "output_type": "stream",
     "text": [
      "[[1. 1. 1. 1.]\n",
      " [1. 1. 1. 1.]]\n"
     ]
    }
   ],
   "source": [
    "# np.ones() ile birlerle dolu matris oluşturma\n",
    "dizi = np.ones((2, 4))\n",
    "print(dizi)"
   ]
  },
  {
   "cell_type": "markdown",
   "id": "56e54577-edf3-4753-a3e3-d831b5a5176e",
   "metadata": {},
   "source": [
    "### Fonksiyon 4: np.arange()"
   ]
  },
  {
   "cell_type": "code",
   "execution_count": 6,
   "id": "ee927d91-cc51-4271-ae3e-16054a5ec1c7",
   "metadata": {},
   "outputs": [
    {
     "name": "stdout",
     "output_type": "stream",
     "text": [
      "[0 2 4 6 8]\n"
     ]
    }
   ],
   "source": [
    "\n",
    "dizi = np.arange(0, 10, 2)\n",
    "print(dizi)\n"
   ]
  },
  {
   "cell_type": "markdown",
   "id": "5670756e-e88b-40e9-831e-d4150d33d1f2",
   "metadata": {},
   "source": [
    "### Fonksiyon 5: np.linspace()"
   ]
  },
  {
   "cell_type": "code",
   "execution_count": 7,
   "id": "8915755f-031a-48fc-87c0-1226980604e5",
   "metadata": {},
   "outputs": [
    {
     "name": "stdout",
     "output_type": "stream",
     "text": [
      "[0.   0.25 0.5  0.75 1.  ]\n"
     ]
    }
   ],
   "source": [
    "# np.linspace() ile eşit aralıklı sayılar oluşturma\n",
    "dizi = np.linspace(0, 1, 5)\n",
    "print(dizi)\n"
   ]
  },
  {
   "cell_type": "markdown",
   "id": "3264f1a9-6fd6-4443-a501-dad4f1740c6d",
   "metadata": {},
   "source": [
    "### Fonksiyon 6: np.random.rand()"
   ]
  },
  {
   "cell_type": "code",
   "execution_count": 8,
   "id": "72a370a6-4c10-42d2-8dfb-ec1290439897",
   "metadata": {},
   "outputs": [
    {
     "name": "stdout",
     "output_type": "stream",
     "text": [
      "[[0.13211701 0.13274239 0.15105746]\n",
      " [0.17508692 0.79594285 0.10460753]\n",
      " [0.56301765 0.3686039  0.78925583]]\n"
     ]
    }
   ],
   "source": [
    "# np.random.rand() ile rastgele sayı üretme\n",
    "dizi = np.random.rand(3, 3)\n",
    "print(dizi)\n"
   ]
  },
  {
   "cell_type": "markdown",
   "id": "9ad00e8d-ca9b-4f04-843f-09ed3de8d311",
   "metadata": {},
   "source": [
    "### Fonksiyon 7: np.reshape()"
   ]
  },
  {
   "cell_type": "code",
   "execution_count": 9,
   "id": "4e5879bd-935a-4a51-9c3a-04316261c86f",
   "metadata": {},
   "outputs": [
    {
     "name": "stdout",
     "output_type": "stream",
     "text": [
      "[[0 1 2]\n",
      " [3 4 5]\n",
      " [6 7 8]]\n"
     ]
    }
   ],
   "source": [
    "# np.reshape() ile diziyi yeniden şekillendirme\n",
    "dizi = np.arange(9).reshape(3, 3)\n",
    "print(dizi)\n"
   ]
  },
  {
   "cell_type": "markdown",
   "id": "169fd30c-1e3e-4e71-b819-5a3b00a37d79",
   "metadata": {},
   "source": [
    "### Fonksiyon 8: np.sum()"
   ]
  },
  {
   "cell_type": "code",
   "execution_count": 11,
   "id": "daa84a14-aefc-45b6-989e-9f1a6ed73f49",
   "metadata": {},
   "outputs": [
    {
     "name": "stdout",
     "output_type": "stream",
     "text": [
      "Toplam: 15\n"
     ]
    }
   ],
   "source": [
    "# np.sum() ile dizideki elemanların toplamını alma\n",
    "dizi = np.array([1, 2, 3, 4, 5])\n",
    "toplam = np.sum(dizi)\n",
    "print(\"Toplam:\", toplam)\n"
   ]
  },
  {
   "cell_type": "markdown",
   "id": "17175be3-2b12-4f31-aab2-cedc4f1db7d1",
   "metadata": {},
   "source": [
    "### Fonksiyon 9: np.mean()"
   ]
  },
  {
   "cell_type": "code",
   "execution_count": 12,
   "id": "7a090e1b-9141-4789-b2d6-b27533d52a58",
   "metadata": {},
   "outputs": [
    {
     "name": "stdout",
     "output_type": "stream",
     "text": [
      "Ortalama: 30.0\n"
     ]
    }
   ],
   "source": [
    "# np.mean() ile ortalama hesaplama\n",
    "dizi = np.array([10, 20, 30, 40, 50])\n",
    "ortalama = np.mean(dizi)\n",
    "print(\"Ortalama:\", ortalama)\n"
   ]
  },
  {
   "cell_type": "markdown",
   "id": "cc29dfaf-7436-4451-958a-f1345dab38f4",
   "metadata": {},
   "source": [
    "### Fonksiyon 10: np.sort()"
   ]
  },
  {
   "cell_type": "code",
   "execution_count": 13,
   "id": "10e7f9d6-0511-49af-b392-3794ce8a125a",
   "metadata": {},
   "outputs": [
    {
     "name": "stdout",
     "output_type": "stream",
     "text": [
      "Sıralı Dizi: [1 3 5 8 9]\n"
     ]
    }
   ],
   "source": [
    "# np.sort() ile diziyi sıralama\n",
    "dizi = np.array([5, 3, 8, 1, 9])\n",
    "sirali = np.sort(dizi)\n",
    "print(\"Sıralı Dizi:\", sirali)\n"
   ]
  },
  {
   "cell_type": "code",
   "execution_count": null,
   "id": "b6e855f5-cf40-4b70-926d-8a236db4ff3e",
   "metadata": {},
   "outputs": [],
   "source": []
  }
 ],
 "metadata": {
  "kernelspec": {
   "display_name": "Python 3 (ipykernel)",
   "language": "python",
   "name": "python3"
  },
  "language_info": {
   "codemirror_mode": {
    "name": "ipython",
    "version": 3
   },
   "file_extension": ".py",
   "mimetype": "text/x-python",
   "name": "python",
   "nbconvert_exporter": "python",
   "pygments_lexer": "ipython3",
   "version": "3.12.9"
  }
 },
 "nbformat": 4,
 "nbformat_minor": 5
}
